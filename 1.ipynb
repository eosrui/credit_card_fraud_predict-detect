{
 "cells": [
  {
   "cell_type": "code",
   "execution_count": 118,
   "metadata": {},
   "outputs": [],
   "source": [
    "import pandas as pd\n",
    "import numpy as np\n",
    "\n",
    "data=pd.read_csv('./UCI_Credit_Card.csv')\n",
    "next_month=data['default.payment.next.month'].value_counts()"
   ]
  },
  {
   "cell_type": "code",
   "execution_count": 119,
   "metadata": {},
   "outputs": [
    {
     "data": {
      "image/png": "[encoded data removed]",
      "text/plain": [
       "<Figure size 432x288 with 1 Axes>"
      ]
     },
     "metadata": {
      "needs_background": "light"
     },
     "output_type": "display_data"
    }
   ],
   "source": [
    "import seaborn as sns\n",
    "import matplotlib.pyplot as plt\n",
    "df=pd.DataFrame({'default.payment.next.month':next_month.index,'values':next_month.values})\n",
    "plt.title('credit card ')\n",
    "sns.barplot(x='default.payment.next.month',y='values',data=df)\n",
    "plt.show()"
   ]
  },
  {
   "cell_type": "code",
   "execution_count": 120,
   "metadata": {},
   "outputs": [],
   "source": [
    "from sklearn.model_selection import train_test_split,GridSearchCV\n",
    "from sklearn.preprocessing import StandardScaler\n",
    "from sklearn.metrics import accuracy_score\n",
    "from sklearn.svm import SVC\n",
    "from sklearn.tree import DecisionTreeClassifier\n",
    "from sklearn.ensemble import RandomForestClassifier\n",
    "from sklearn.neighbors import KNeighborsClassifier\n",
    "from sklearn.pipeline import Pipeline\n",
    "\n",
    "\n",
    "data.drop(['ID'],inplace=True,axis=1)\n",
    "target=data['default.payment.next.month'].values\n",
    "columns=data.columns.tolist()\n",
    "columns.remove('default.payment.next.month')\n",
    "features=data[columns].values\n",
    "\n",
    "train_x,test_x,train_y,test_y=train_test_split(features,target,test_size=0.3)\n",
    "\n",
    "classifiers=[\n",
    "    SVC(),\n",
    "    DecisionTreeClassifier(),\n",
    "    RandomForestClassifier(),\n",
    "    KNeighborsClassifier(),\n",
    "]\n",
    "\n",
    "classifier_names=['svc','decisiontreeclassifier','randomforestclassifier','kneighborsclassifier']\n",
    "\n",
    "classifier_param_grid=[\n",
    "    {'svc__C':[1],'svc__gamma':[0.01]},\n",
    "    {'decisiontreeclassifier__max_depth':[6,9,11]},\n",
    "    {'randomforestclassifier__n_estimators':[3,5,6]},\n",
    "    {'kneighborsclassifier__n_neighbors':[4,6,8]}\n",
    "]\n"
   ]
  },
  {
   "cell_type": "code",
   "execution_count": 121,
   "metadata": {},
   "outputs": [
    {
     "name": "stdout",
     "output_type": "stream",
     "text": [
      "best_score: 0.8182380952380953\n",
      "best_param: {'svc__C': 1, 'svc__gamma': 0.01}\n",
      "accuracy 0.8144\n",
      "best_score: 0.8189523809523809\n",
      "best_param: {'decisiontreeclassifier__max_depth': 6}\n",
      "accuracy 0.8153\n",
      "best_score: 0.8\n",
      "best_param: {'randomforestclassifier__n_estimators': 6}\n",
      "accuracy 0.7959\n",
      "best_score: 0.8066666666666666\n",
      "best_param: {'kneighborsclassifier__n_neighbors': 8}\n",
      "accuracy 0.8042\n"
     ]
    }
   ],
   "source": [
    "best_score=0\n",
    "\n",
    "def GridSearchCV_work(pipline,train_x,train_y,test_x,test_y,param_grid,score):\n",
    "    global best_score\n",
    "    gridsearch=GridSearchCV(estimator=pipline,param_grid=param_grid,scoring=score)\n",
    "    search=gridsearch.fit(train_x,train_y)\n",
    "    predict_y=gridsearch.predict(test_x)\n",
    "    print('best_score:',search.best_score_)\n",
    "    print('best_param:',search.best_params_)\n",
    "    print('accuracy %0.4lf'%accuracy_score(test_y,predict_y))\n",
    "    \n",
    "    if search.best_score_>best_score:\n",
    "        best_score=search.best_score_\n",
    "        best_param_grid=param_grid\n",
    "        return best_score,best_param_grid\n",
    "    \n",
    "for model,model_name,model_param_grid in zip(classifiers,classifier_names,classifier_param_grid):\n",
    "    pipline=Pipeline([\n",
    "        ('scaler',StandardScaler()),\n",
    "        (model_name,model)\n",
    "    ])\n",
    "    result=GridSearchCV_work(pipline,train_x,train_y,test_x,test_y,model_param_grid,score='accuracy')\n",
    "# print('best_score{} ,best_param_grid{}'.format(best_score,best_param_grid))"
   ]
  }
 ],
 "metadata": {
  "kernelspec": {
   "display_name": "Python 3",
   "language": "python",
   "name": "python3"
  },
  "language_info": {
   "codemirror_mode": {
    "name": "ipython",
    "version": 3
   },
   "file_extension": ".py",
   "mimetype": "text/x-python",
   "name": "python",
   "nbconvert_exporter": "python",
   "pygments_lexer": "ipython3",
   "version": "3.7.3"
  }
 },
 "nbformat": 4,
 "nbformat_minor": 2
}
